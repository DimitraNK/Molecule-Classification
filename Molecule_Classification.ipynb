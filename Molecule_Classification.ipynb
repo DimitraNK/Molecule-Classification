{
  "cells": [
    {
      "cell_type": "markdown",
      "metadata": {
        "id": "X2kEzGhfCyWm"
      },
      "source": [
        "# **Installations for google colab**"
      ]
    },
    {
      "cell_type": "code",
      "execution_count": null,
      "metadata": {
        "colab": {
          "base_uri": "https://localhost:8080/"
        },
        "id": "yEBurKZwCpv3",
        "outputId": "a431761e-a8ab-4ff7-e87a-febdddf4999c"
      },
      "outputs": [
        {
          "output_type": "stream",
          "name": "stdout",
          "text": [
            "Looking in indexes: https://pypi.org/simple, https://us-python.pkg.dev/colab-wheels/public/simple/\n",
            "Collecting rdkit\n",
            "  Downloading rdkit-2023.3.1-cp310-cp310-manylinux_2_17_x86_64.manylinux2014_x86_64.whl (29.7 MB)\n",
            "\u001b[2K     \u001b[90m━━━━━━━━━━━━━━━━━━━━━━━━━━━━━━━━━━━━━━━━\u001b[0m \u001b[32m29.7/29.7 MB\u001b[0m \u001b[31m18.8 MB/s\u001b[0m eta \u001b[36m0:00:00\u001b[0m\n",
            "\u001b[?25hRequirement already satisfied: numpy in /usr/local/lib/python3.10/dist-packages (from rdkit) (1.22.4)\n",
            "Requirement already satisfied: Pillow in /usr/local/lib/python3.10/dist-packages (from rdkit) (8.4.0)\n",
            "Installing collected packages: rdkit\n",
            "Successfully installed rdkit-2023.3.1\n"
          ]
        }
      ],
      "source": [
        "# All necessary installations for google colab\n",
        "!pip install rdkit"
      ]
    },
    {
      "cell_type": "code",
      "execution_count": null,
      "metadata": {
        "colab": {
          "base_uri": "https://localhost:8080/"
        },
        "id": "3ddTdKQiDPCU",
        "outputId": "53a4abea-280b-48ca-9134-beaa5a219340"
      },
      "outputs": [
        {
          "output_type": "stream",
          "name": "stdout",
          "text": [
            "Looking in indexes: https://pypi.org/simple, https://us-python.pkg.dev/colab-wheels/public/simple/\n",
            "Collecting ogb\n",
            "  Downloading ogb-1.3.6-py3-none-any.whl (78 kB)\n",
            "\u001b[2K     \u001b[90m━━━━━━━━━━━━━━━━━━━━━━━━━━━━━━━━━━━━━━━━\u001b[0m \u001b[32m78.8/78.8 kB\u001b[0m \u001b[31m4.5 MB/s\u001b[0m eta \u001b[36m0:00:00\u001b[0m\n",
            "\u001b[?25hRequirement already satisfied: torch>=1.6.0 in /usr/local/lib/python3.10/dist-packages (from ogb) (2.0.1+cu118)\n",
            "Requirement already satisfied: numpy>=1.16.0 in /usr/local/lib/python3.10/dist-packages (from ogb) (1.22.4)\n",
            "Requirement already satisfied: tqdm>=4.29.0 in /usr/local/lib/python3.10/dist-packages (from ogb) (4.65.0)\n",
            "Requirement already satisfied: scikit-learn>=0.20.0 in /usr/local/lib/python3.10/dist-packages (from ogb) (1.2.2)\n",
            "Requirement already satisfied: pandas>=0.24.0 in /usr/local/lib/python3.10/dist-packages (from ogb) (1.5.3)\n",
            "Requirement already satisfied: six>=1.12.0 in /usr/local/lib/python3.10/dist-packages (from ogb) (1.16.0)\n",
            "Requirement already satisfied: urllib3>=1.24.0 in /usr/local/lib/python3.10/dist-packages (from ogb) (1.26.15)\n",
            "Collecting outdated>=0.2.0 (from ogb)\n",
            "  Downloading outdated-0.2.2-py2.py3-none-any.whl (7.5 kB)\n",
            "Requirement already satisfied: setuptools>=44 in /usr/local/lib/python3.10/dist-packages (from outdated>=0.2.0->ogb) (67.7.2)\n",
            "Collecting littleutils (from outdated>=0.2.0->ogb)\n",
            "  Downloading littleutils-0.2.2.tar.gz (6.6 kB)\n",
            "  Preparing metadata (setup.py) ... \u001b[?25l\u001b[?25hdone\n",
            "Requirement already satisfied: requests in /usr/local/lib/python3.10/dist-packages (from outdated>=0.2.0->ogb) (2.27.1)\n",
            "Requirement already satisfied: python-dateutil>=2.8.1 in /usr/local/lib/python3.10/dist-packages (from pandas>=0.24.0->ogb) (2.8.2)\n",
            "Requirement already satisfied: pytz>=2020.1 in /usr/local/lib/python3.10/dist-packages (from pandas>=0.24.0->ogb) (2022.7.1)\n",
            "Requirement already satisfied: scipy>=1.3.2 in /usr/local/lib/python3.10/dist-packages (from scikit-learn>=0.20.0->ogb) (1.10.1)\n",
            "Requirement already satisfied: joblib>=1.1.1 in /usr/local/lib/python3.10/dist-packages (from scikit-learn>=0.20.0->ogb) (1.2.0)\n",
            "Requirement already satisfied: threadpoolctl>=2.0.0 in /usr/local/lib/python3.10/dist-packages (from scikit-learn>=0.20.0->ogb) (3.1.0)\n",
            "Requirement already satisfied: filelock in /usr/local/lib/python3.10/dist-packages (from torch>=1.6.0->ogb) (3.12.0)\n",
            "Requirement already satisfied: typing-extensions in /usr/local/lib/python3.10/dist-packages (from torch>=1.6.0->ogb) (4.5.0)\n",
            "Requirement already satisfied: sympy in /usr/local/lib/python3.10/dist-packages (from torch>=1.6.0->ogb) (1.11.1)\n",
            "Requirement already satisfied: networkx in /usr/local/lib/python3.10/dist-packages (from torch>=1.6.0->ogb) (3.1)\n",
            "Requirement already satisfied: jinja2 in /usr/local/lib/python3.10/dist-packages (from torch>=1.6.0->ogb) (3.1.2)\n",
            "Requirement already satisfied: triton==2.0.0 in /usr/local/lib/python3.10/dist-packages (from torch>=1.6.0->ogb) (2.0.0)\n",
            "Requirement already satisfied: cmake in /usr/local/lib/python3.10/dist-packages (from triton==2.0.0->torch>=1.6.0->ogb) (3.25.2)\n",
            "Requirement already satisfied: lit in /usr/local/lib/python3.10/dist-packages (from triton==2.0.0->torch>=1.6.0->ogb) (16.0.5)\n",
            "Requirement already satisfied: MarkupSafe>=2.0 in /usr/local/lib/python3.10/dist-packages (from jinja2->torch>=1.6.0->ogb) (2.1.2)\n",
            "Requirement already satisfied: certifi>=2017.4.17 in /usr/local/lib/python3.10/dist-packages (from requests->outdated>=0.2.0->ogb) (2022.12.7)\n",
            "Requirement already satisfied: charset-normalizer~=2.0.0 in /usr/local/lib/python3.10/dist-packages (from requests->outdated>=0.2.0->ogb) (2.0.12)\n",
            "Requirement already satisfied: idna<4,>=2.5 in /usr/local/lib/python3.10/dist-packages (from requests->outdated>=0.2.0->ogb) (3.4)\n",
            "Requirement already satisfied: mpmath>=0.19 in /usr/local/lib/python3.10/dist-packages (from sympy->torch>=1.6.0->ogb) (1.3.0)\n",
            "Building wheels for collected packages: littleutils\n",
            "  Building wheel for littleutils (setup.py) ... \u001b[?25l\u001b[?25hdone\n",
            "  Created wheel for littleutils: filename=littleutils-0.2.2-py3-none-any.whl size=7029 sha256=143f9362ec834b4044883862b4dc8968f7e9ae810b20b108f17ad62dbdc12e94\n",
            "  Stored in directory: /root/.cache/pip/wheels/3d/fe/b0/27a9892da57472e538c7452a721a9cf463cc03cf7379889266\n",
            "Successfully built littleutils\n",
            "Installing collected packages: littleutils, outdated, ogb\n",
            "Successfully installed littleutils-0.2.2 ogb-1.3.6 outdated-0.2.2\n"
          ]
        }
      ],
      "source": [
        "!pip install ogb"
      ]
    },
    {
      "cell_type": "code",
      "execution_count": null,
      "metadata": {
        "colab": {
          "base_uri": "https://localhost:8080/"
        },
        "id": "HXClClLcD6WK",
        "outputId": "b847b141-1284-44af-fac9-ad8a6337e6b9"
      },
      "outputs": [
        {
          "output_type": "stream",
          "name": "stdout",
          "text": [
            "Looking in indexes: https://pypi.org/simple, https://us-python.pkg.dev/colab-wheels/public/simple/\n",
            "Collecting dgl\n",
            "  Downloading dgl-1.1.0-cp310-cp310-manylinux1_x86_64.whl (5.9 MB)\n",
            "\u001b[2K     \u001b[90m━━━━━━━━━━━━━━━━━━━━━━━━━━━━━━━━━━━━━━━━\u001b[0m \u001b[32m5.9/5.9 MB\u001b[0m \u001b[31m37.2 MB/s\u001b[0m eta \u001b[36m0:00:00\u001b[0m\n",
            "\u001b[?25hRequirement already satisfied: numpy>=1.14.0 in /usr/local/lib/python3.10/dist-packages (from dgl) (1.22.4)\n",
            "Requirement already satisfied: scipy>=1.1.0 in /usr/local/lib/python3.10/dist-packages (from dgl) (1.10.1)\n",
            "Requirement already satisfied: networkx>=2.1 in /usr/local/lib/python3.10/dist-packages (from dgl) (3.1)\n",
            "Requirement already satisfied: requests>=2.19.0 in /usr/local/lib/python3.10/dist-packages (from dgl) (2.27.1)\n",
            "Requirement already satisfied: tqdm in /usr/local/lib/python3.10/dist-packages (from dgl) (4.65.0)\n",
            "Requirement already satisfied: psutil>=5.8.0 in /usr/local/lib/python3.10/dist-packages (from dgl) (5.9.5)\n",
            "Requirement already satisfied: urllib3<1.27,>=1.21.1 in /usr/local/lib/python3.10/dist-packages (from requests>=2.19.0->dgl) (1.26.15)\n",
            "Requirement already satisfied: certifi>=2017.4.17 in /usr/local/lib/python3.10/dist-packages (from requests>=2.19.0->dgl) (2022.12.7)\n",
            "Requirement already satisfied: charset-normalizer~=2.0.0 in /usr/local/lib/python3.10/dist-packages (from requests>=2.19.0->dgl) (2.0.12)\n",
            "Requirement already satisfied: idna<4,>=2.5 in /usr/local/lib/python3.10/dist-packages (from requests>=2.19.0->dgl) (3.4)\n",
            "Installing collected packages: dgl\n",
            "Successfully installed dgl-1.1.0\n"
          ]
        }
      ],
      "source": [
        "!pip install dgl"
      ]
    },
    {
      "cell_type": "code",
      "execution_count": null,
      "metadata": {
        "colab": {
          "base_uri": "https://localhost:8080/"
        },
        "id": "zk-SHAmdCsO2",
        "outputId": "c6be0aa0-bc55-4233-fa83-dc3939033e9d"
      },
      "outputs": [
        {
          "output_type": "stream",
          "name": "stdout",
          "text": [
            "Looking in indexes: https://pypi.org/simple, https://us-python.pkg.dev/colab-wheels/public/simple/\n",
            "Collecting torch_geometric\n",
            "  Downloading torch_geometric-2.3.1.tar.gz (661 kB)\n",
            "\u001b[2K     \u001b[90m━━━━━━━━━━━━━━━━━━━━━━━━━━━━━━━━━━━━━━\u001b[0m \u001b[32m661.6/661.6 kB\u001b[0m \u001b[31m14.6 MB/s\u001b[0m eta \u001b[36m0:00:00\u001b[0m\n",
            "\u001b[?25h  Installing build dependencies ... \u001b[?25l\u001b[?25hdone\n",
            "  Getting requirements to build wheel ... \u001b[?25l\u001b[?25hdone\n",
            "  Preparing metadata (pyproject.toml) ... \u001b[?25l\u001b[?25hdone\n",
            "Requirement already satisfied: tqdm in /usr/local/lib/python3.10/dist-packages (from torch_geometric) (4.65.0)\n",
            "Requirement already satisfied: numpy in /usr/local/lib/python3.10/dist-packages (from torch_geometric) (1.22.4)\n",
            "Requirement already satisfied: scipy in /usr/local/lib/python3.10/dist-packages (from torch_geometric) (1.10.1)\n",
            "Requirement already satisfied: jinja2 in /usr/local/lib/python3.10/dist-packages (from torch_geometric) (3.1.2)\n",
            "Requirement already satisfied: requests in /usr/local/lib/python3.10/dist-packages (from torch_geometric) (2.27.1)\n",
            "Requirement already satisfied: pyparsing in /usr/local/lib/python3.10/dist-packages (from torch_geometric) (3.0.9)\n",
            "Requirement already satisfied: scikit-learn in /usr/local/lib/python3.10/dist-packages (from torch_geometric) (1.2.2)\n",
            "Requirement already satisfied: psutil>=5.8.0 in /usr/local/lib/python3.10/dist-packages (from torch_geometric) (5.9.5)\n",
            "Requirement already satisfied: MarkupSafe>=2.0 in /usr/local/lib/python3.10/dist-packages (from jinja2->torch_geometric) (2.1.2)\n",
            "Requirement already satisfied: urllib3<1.27,>=1.21.1 in /usr/local/lib/python3.10/dist-packages (from requests->torch_geometric) (1.26.15)\n",
            "Requirement already satisfied: certifi>=2017.4.17 in /usr/local/lib/python3.10/dist-packages (from requests->torch_geometric) (2022.12.7)\n",
            "Requirement already satisfied: charset-normalizer~=2.0.0 in /usr/local/lib/python3.10/dist-packages (from requests->torch_geometric) (2.0.12)\n",
            "Requirement already satisfied: idna<4,>=2.5 in /usr/local/lib/python3.10/dist-packages (from requests->torch_geometric) (3.4)\n",
            "Requirement already satisfied: joblib>=1.1.1 in /usr/local/lib/python3.10/dist-packages (from scikit-learn->torch_geometric) (1.2.0)\n",
            "Requirement already satisfied: threadpoolctl>=2.0.0 in /usr/local/lib/python3.10/dist-packages (from scikit-learn->torch_geometric) (3.1.0)\n",
            "Building wheels for collected packages: torch_geometric\n",
            "  Building wheel for torch_geometric (pyproject.toml) ... \u001b[?25l\u001b[?25hdone\n",
            "  Created wheel for torch_geometric: filename=torch_geometric-2.3.1-py3-none-any.whl size=910459 sha256=fea71405c18934d917ddbc2bf8e429aa89ed7e99e8fea4f885b5f3d5aeaa9f86\n",
            "  Stored in directory: /root/.cache/pip/wheels/ac/dc/30/e2874821ff308ee67dcd7a66dbde912411e19e35a1addda028\n",
            "Successfully built torch_geometric\n",
            "Installing collected packages: torch_geometric\n",
            "Successfully installed torch_geometric-2.3.1\n"
          ]
        }
      ],
      "source": [
        "!pip install torch_geometric"
      ]
    },
    {
      "cell_type": "markdown",
      "metadata": {
        "id": "f3xBiSmNB6ft"
      },
      "source": [
        "# **Loading the Dataset**"
      ]
    },
    {
      "cell_type": "code",
      "execution_count": null,
      "metadata": {
        "colab": {
          "base_uri": "https://localhost:8080/"
        },
        "id": "0VZXLjRMPI0t",
        "outputId": "bc5cad42-19b9-47de-f3f8-ed1118e05703"
      },
      "outputs": [
        {
          "output_type": "stream",
          "name": "stdout",
          "text": [
            "Using device cpu\n",
            "Downloading http://snap.stanford.edu/ogb/data/graphproppred/csv_mol_download/hiv.zip\n"
          ]
        },
        {
          "output_type": "stream",
          "name": "stderr",
          "text": [
            "Downloaded 0.00 GB: 100%|██████████| 3/3 [00:00<00:00,  6.73it/s]\n",
            "Processing...\n"
          ]
        },
        {
          "output_type": "stream",
          "name": "stdout",
          "text": [
            "Extracting dataset/hiv.zip\n",
            "Loading necessary files...\n",
            "This might take a while.\n",
            "Processing graphs...\n"
          ]
        },
        {
          "output_type": "stream",
          "name": "stderr",
          "text": [
            "100%|██████████| 41127/41127 [00:00<00:00, 41841.82it/s]\n"
          ]
        },
        {
          "output_type": "stream",
          "name": "stdout",
          "text": [
            "Converting graphs into PyG objects...\n"
          ]
        },
        {
          "output_type": "stream",
          "name": "stderr",
          "text": [
            "100%|██████████| 41127/41127 [00:01<00:00, 20644.82it/s]\n"
          ]
        },
        {
          "output_type": "stream",
          "name": "stdout",
          "text": [
            "Saving...\n",
            "<class 'ogb.graphproppred.dataset_pyg.PygGraphPropPredDataset'>\n"
          ]
        },
        {
          "output_type": "stream",
          "name": "stderr",
          "text": [
            "Done!\n",
            "/usr/local/lib/python3.10/dist-packages/torch_geometric/deprecation.py:22: UserWarning: 'data.DataLoader' is deprecated, use 'loader.DataLoader' instead\n",
            "  warnings.warn(out)\n"
          ]
        }
      ],
      "source": [
        "import numpy as np\n",
        "import torch\n",
        "from ogb.graphproppred import PygGraphPropPredDataset\n",
        "from torch_geometric.data import DataLoader\n",
        "\n",
        "# Function for setting the seed\n",
        "def set_seed(seed):\n",
        "    np.random.seed(seed)\n",
        "    torch.manual_seed(seed)\n",
        "    if torch.cuda.is_available():\n",
        "        torch.cuda.manual_seed(seed)\n",
        "        torch.cuda.manual_seed_all(seed)\n",
        "set_seed(42)\n",
        "\n",
        "# Ensure that all operations are deterministic on GPU (if used) for reproducibility\n",
        "torch.backends.cudnn.deterministic = True\n",
        "torch.backends.cudnn.benchmark = False\n",
        "\n",
        "# Fetching the device that will be used throughout this notebook\n",
        "device = torch.device(\"cpu\") if not torch.cuda.is_available() else torch.device(\"cuda:0\")\n",
        "print(\"Using device\", device)\n",
        "\n",
        "dataset = PygGraphPropPredDataset(name = \"ogbg-molhiv\")\n",
        "print(type(dataset))\n",
        "\n",
        "split_idx = dataset.get_idx_split()\n",
        "train_loader = DataLoader(dataset[split_idx[\"train\"]], batch_size=32, shuffle=True)\n",
        "valid_loader = DataLoader(dataset[split_idx[\"valid\"]], batch_size=32, shuffle=False)\n",
        "test_loader = DataLoader(dataset[split_idx[\"test\"]], batch_size=32, shuffle=False)"
      ]
    },
    {
      "cell_type": "markdown",
      "metadata": {
        "id": "SOQbmqt5UkYL"
      },
      "source": [
        "* x: A node feature matrix with shape (num_nodes, num_node_features). Each row of this matrix represents a node (atom) in the molecule, and each column represents a different feature (such as atom type or charge).\n",
        "* edge_index: An edge index matrix with shape (2, num_edges). Each column of this matrix represents an edge between two nodes (atoms) in the molecule. The two rows of each column correspond to the source and target nodes of the edge, respectively.\n",
        "* y: The binary label for the molecule, indicating whether it is active against HIV or not.\n",
        "* The edge_attr tensor will not be empty if you have edge features in your graph. If you have edge features, edge_attr will be a tensor of shape (num_edges, num_edge_features). In the case of the obgb-molhiv dataset, the edges do have features, so edge_attr will not be empty."
      ]
    },
    {
      "cell_type": "markdown",
      "metadata": {
        "id": "uNFnyT5aeD_W"
      },
      "source": [
        "* edge_index: edges\n",
        "* edge_attr: edge/bond features\n",
        "  10. bond type\n",
        "  11. bond stereo\n",
        "  12. is conjugated\n",
        "\n",
        "* x: 9 node/atom features for 22 nodes -->\n",
        "  1. atomic number,\n",
        "  2. chilarity,\n",
        "  3. degree,\n",
        "  4. formal charge,\n",
        "  5. numH,\n",
        "  6. number_radical_e,\n",
        "  7. hybridization,\n",
        "  8. is aromatic\n",
        "  9. is in ring\n",
        "* y: label for this node\n",
        "* num_nodes: number of nodes"
      ]
    },
    {
      "cell_type": "code",
      "execution_count": null,
      "metadata": {
        "colab": {
          "base_uri": "https://localhost:8080/"
        },
        "id": "zhkSVKAMQ7mo",
        "outputId": "6adc9c5c-a722-46ec-e287-e8e5715df75b"
      },
      "outputs": [
        {
          "output_type": "stream",
          "name": "stdout",
          "text": [
            "Data(edge_index=[2, 62], edge_attr=[62, 3], x=[26, 9], y=[1, 1], num_nodes=26)\n"
          ]
        }
      ],
      "source": [
        "print(dataset[1800])\n",
        "#print(dataset[1800].y)\n",
        "#print(dataset[1800].x)\n",
        "#print(dataset[1800].edge_index)\n",
        "#print(dataset[1800].edge_attr)"
      ]
    },
    {
      "cell_type": "code",
      "execution_count": null,
      "metadata": {
        "colab": {
          "base_uri": "https://localhost:8080/"
        },
        "id": "5iBZFFHEVsVA",
        "outputId": "a00611f2-33a5-4c0e-c66c-417fe6dd45d3"
      },
      "outputs": [
        {
          "output_type": "stream",
          "name": "stdout",
          "text": [
            "Average label: 0.04\n",
            "79.99854110438397\n",
            "10.000729447808009\n",
            "10.000729447808009\n"
          ]
        }
      ],
      "source": [
        "print(f\"Average label: {dataset.y.float().mean().item():4.2f}\")\n",
        "print(len(split_idx[\"train\"])/len(dataset)*100)\n",
        "print(len(split_idx[\"valid\"])/len(dataset)*100)\n",
        "print(len(split_idx[\"test\"])/len(dataset)*100)"
      ]
    },
    {
      "cell_type": "code",
      "execution_count": null,
      "metadata": {
        "colab": {
          "base_uri": "https://localhost:8080/",
          "height": 206
        },
        "id": "n273DlnsGOtz",
        "outputId": "be7308b3-9b92-4eec-8825-6e03198ce2b9"
      },
      "outputs": [
        {
          "output_type": "execute_result",
          "data": {
            "text/plain": [
              "   HIV_active                                             smiles\n",
              "0           0  CCC1=[O+][Cu-3]2([O+]=C(CC)C1)[O+]=C(CC)CC(CC)...\n",
              "1           0  C(=Cc1ccccc1)C1=[O+][Cu-3]2([O+]=C(C=Cc3ccccc3...\n",
              "2           0                   CC(=O)N1c2ccccc2Sc2c1ccc1ccccc21\n",
              "3           0    Nc1ccc(C=Cc2ccc(N)cc2S(=O)(=O)O)c(S(=O)(=O)O)c1\n",
              "4           0                             O=S(=O)(O)CCS(=O)(=O)O"
            ],
            "text/html": [
              "\n",
              "  <div id=\"df-1817bf5d-f7a7-442e-b744-bcdbc43c8a28\">\n",
              "    <div class=\"colab-df-container\">\n",
              "      <div>\n",
              "<style scoped>\n",
              "    .dataframe tbody tr th:only-of-type {\n",
              "        vertical-align: middle;\n",
              "    }\n",
              "\n",
              "    .dataframe tbody tr th {\n",
              "        vertical-align: top;\n",
              "    }\n",
              "\n",
              "    .dataframe thead th {\n",
              "        text-align: right;\n",
              "    }\n",
              "</style>\n",
              "<table border=\"1\" class=\"dataframe\">\n",
              "  <thead>\n",
              "    <tr style=\"text-align: right;\">\n",
              "      <th></th>\n",
              "      <th>HIV_active</th>\n",
              "      <th>smiles</th>\n",
              "    </tr>\n",
              "  </thead>\n",
              "  <tbody>\n",
              "    <tr>\n",
              "      <th>0</th>\n",
              "      <td>0</td>\n",
              "      <td>CCC1=[O+][Cu-3]2([O+]=C(CC)C1)[O+]=C(CC)CC(CC)...</td>\n",
              "    </tr>\n",
              "    <tr>\n",
              "      <th>1</th>\n",
              "      <td>0</td>\n",
              "      <td>C(=Cc1ccccc1)C1=[O+][Cu-3]2([O+]=C(C=Cc3ccccc3...</td>\n",
              "    </tr>\n",
              "    <tr>\n",
              "      <th>2</th>\n",
              "      <td>0</td>\n",
              "      <td>CC(=O)N1c2ccccc2Sc2c1ccc1ccccc21</td>\n",
              "    </tr>\n",
              "    <tr>\n",
              "      <th>3</th>\n",
              "      <td>0</td>\n",
              "      <td>Nc1ccc(C=Cc2ccc(N)cc2S(=O)(=O)O)c(S(=O)(=O)O)c1</td>\n",
              "    </tr>\n",
              "    <tr>\n",
              "      <th>4</th>\n",
              "      <td>0</td>\n",
              "      <td>O=S(=O)(O)CCS(=O)(=O)O</td>\n",
              "    </tr>\n",
              "  </tbody>\n",
              "</table>\n",
              "</div>\n",
              "      <button class=\"colab-df-convert\" onclick=\"convertToInteractive('df-1817bf5d-f7a7-442e-b744-bcdbc43c8a28')\"\n",
              "              title=\"Convert this dataframe to an interactive table.\"\n",
              "              style=\"display:none;\">\n",
              "        \n",
              "  <svg xmlns=\"http://www.w3.org/2000/svg\" height=\"24px\"viewBox=\"0 0 24 24\"\n",
              "       width=\"24px\">\n",
              "    <path d=\"M0 0h24v24H0V0z\" fill=\"none\"/>\n",
              "    <path d=\"M18.56 5.44l.94 2.06.94-2.06 2.06-.94-2.06-.94-.94-2.06-.94 2.06-2.06.94zm-11 1L8.5 8.5l.94-2.06 2.06-.94-2.06-.94L8.5 2.5l-.94 2.06-2.06.94zm10 10l.94 2.06.94-2.06 2.06-.94-2.06-.94-.94-2.06-.94 2.06-2.06.94z\"/><path d=\"M17.41 7.96l-1.37-1.37c-.4-.4-.92-.59-1.43-.59-.52 0-1.04.2-1.43.59L10.3 9.45l-7.72 7.72c-.78.78-.78 2.05 0 2.83L4 21.41c.39.39.9.59 1.41.59.51 0 1.02-.2 1.41-.59l7.78-7.78 2.81-2.81c.8-.78.8-2.07 0-2.86zM5.41 20L4 18.59l7.72-7.72 1.47 1.35L5.41 20z\"/>\n",
              "  </svg>\n",
              "      </button>\n",
              "      \n",
              "  <style>\n",
              "    .colab-df-container {\n",
              "      display:flex;\n",
              "      flex-wrap:wrap;\n",
              "      gap: 12px;\n",
              "    }\n",
              "\n",
              "    .colab-df-convert {\n",
              "      background-color: #E8F0FE;\n",
              "      border: none;\n",
              "      border-radius: 50%;\n",
              "      cursor: pointer;\n",
              "      display: none;\n",
              "      fill: #1967D2;\n",
              "      height: 32px;\n",
              "      padding: 0 0 0 0;\n",
              "      width: 32px;\n",
              "    }\n",
              "\n",
              "    .colab-df-convert:hover {\n",
              "      background-color: #E2EBFA;\n",
              "      box-shadow: 0px 1px 2px rgba(60, 64, 67, 0.3), 0px 1px 3px 1px rgba(60, 64, 67, 0.15);\n",
              "      fill: #174EA6;\n",
              "    }\n",
              "\n",
              "    [theme=dark] .colab-df-convert {\n",
              "      background-color: #3B4455;\n",
              "      fill: #D2E3FC;\n",
              "    }\n",
              "\n",
              "    [theme=dark] .colab-df-convert:hover {\n",
              "      background-color: #434B5C;\n",
              "      box-shadow: 0px 1px 3px 1px rgba(0, 0, 0, 0.15);\n",
              "      filter: drop-shadow(0px 1px 2px rgba(0, 0, 0, 0.3));\n",
              "      fill: #FFFFFF;\n",
              "    }\n",
              "  </style>\n",
              "\n",
              "      <script>\n",
              "        const buttonEl =\n",
              "          document.querySelector('#df-1817bf5d-f7a7-442e-b744-bcdbc43c8a28 button.colab-df-convert');\n",
              "        buttonEl.style.display =\n",
              "          google.colab.kernel.accessAllowed ? 'block' : 'none';\n",
              "\n",
              "        async function convertToInteractive(key) {\n",
              "          const element = document.querySelector('#df-1817bf5d-f7a7-442e-b744-bcdbc43c8a28');\n",
              "          const dataTable =\n",
              "            await google.colab.kernel.invokeFunction('convertToInteractive',\n",
              "                                                     [key], {});\n",
              "          if (!dataTable) return;\n",
              "\n",
              "          const docLinkHtml = 'Like what you see? Visit the ' +\n",
              "            '<a target=\"_blank\" href=https://colab.research.google.com/notebooks/data_table.ipynb>data table notebook</a>'\n",
              "            + ' to learn more about interactive tables.';\n",
              "          element.innerHTML = '';\n",
              "          dataTable['output_type'] = 'display_data';\n",
              "          await google.colab.output.renderOutput(dataTable, element);\n",
              "          const docLink = document.createElement('div');\n",
              "          docLink.innerHTML = docLinkHtml;\n",
              "          element.appendChild(docLink);\n",
              "        }\n",
              "      </script>\n",
              "    </div>\n",
              "  </div>\n",
              "  "
            ]
          },
          "metadata": {},
          "execution_count": 10
        }
      ],
      "source": [
        "import pandas as pd\n",
        "\n",
        "csv_path = '/content/drive/My Drive/Colab Notebooks/Molecule Classification/hiv.csv'\n",
        "df = pd.read_csv(csv_path)\n",
        "df.head(5)\n",
        "df.drop('mol_id', axis='columns', inplace=True)\n",
        "df.head(5)\n"
      ]
    },
    {
      "cell_type": "code",
      "execution_count": null,
      "metadata": {
        "id": "ykiIrSDDILx7"
      },
      "outputs": [],
      "source": [
        "from ogb.utils.features import (allowable_features, atom_to_feature_vector,\n",
        " bond_to_feature_vector, atom_feature_vector_to_dict, bond_feature_vector_to_dict)\n",
        "from rdkit import Chem\n",
        "import numpy as np\n",
        "\n",
        "\n",
        "def ReorderCanonicalRankAtoms(mol):\n",
        "    order = tuple(zip(*sorted([(j, i) for i, j in enumerate(Chem.CanonicalRankAtoms(mol))])))[1]\n",
        "    mol_renum = Chem.RenumberAtoms(mol, order)\n",
        "    return mol_renum, order\n",
        "\n",
        "def smiles2graph(smiles_string, removeHs=True, reorder_atoms=False):\n",
        "    \"\"\"\n",
        "    Converts SMILES string to graph Data object\n",
        "    :input: SMILES string (str)\n",
        "    :return: graph object\n",
        "    \"\"\"\n",
        "\n",
        "    mol = Chem.MolFromSmiles(smiles_string)\n",
        "    mol = mol if removeHs else Chem.AddHs(mol)\n",
        "    if reorder_atoms:\n",
        "        mol, _ = ReorderCanonicalRankAtoms(mol)\n",
        "\n",
        "    # atoms\n",
        "    atom_features_list = []\n",
        "    for atom in mol.GetAtoms():\n",
        "        atom_features_list.append(atom_to_feature_vector(atom))\n",
        "    x = np.array(atom_features_list, dtype = np.int64)\n",
        "\n",
        "    # bonds\n",
        "    num_bond_features = 3  # bond type, bond stereo, is_conjugated\n",
        "    if len(mol.GetBonds()) > 0: # mol has bonds\n",
        "        edges_list = []\n",
        "        edge_features_list = []\n",
        "        for bond in mol.GetBonds():\n",
        "            i = bond.GetBeginAtomIdx()\n",
        "            j = bond.GetEndAtomIdx()\n",
        "\n",
        "            edge_feature = bond_to_feature_vector(bond)\n",
        "\n",
        "            # add edges in both directions\n",
        "            edges_list.append((i, j))\n",
        "            edge_features_list.append(edge_feature)\n",
        "            edges_list.append((j, i))\n",
        "            edge_features_list.append(edge_feature)\n",
        "\n",
        "        # data.edge_index: Graph connectivity in COO format with shape [2, num_edges]\n",
        "        edge_index = np.array(edges_list, dtype = np.int64).T\n",
        "\n",
        "        # data.edge_attr: Edge feature matrix with shape [num_edges, num_edge_features]\n",
        "        edge_attr = np.array(edge_features_list, dtype = np.int64)\n",
        "\n",
        "    else:   # mol has no bonds\n",
        "        edge_index = np.empty((2, 0), dtype = np.int64)\n",
        "        edge_attr = np.empty((0, num_bond_features), dtype = np.int64)\n",
        "\n",
        "    graph = dict()\n",
        "    graph['edge_index'] = edge_index\n",
        "    graph['edge_feat'] = edge_attr\n",
        "    graph['node_feat'] = x\n",
        "    graph['num_nodes'] = len(x)\n",
        "\n",
        "    return graph\n",
        "\n",
        "graph = smiles2graph(df['smiles'][0])"
      ]
    },
    {
      "cell_type": "code",
      "execution_count": null,
      "metadata": {
        "colab": {
          "base_uri": "https://localhost:8080/"
        },
        "id": "mYJY4PIoJPyR",
        "outputId": "040bbf68-edb6-4df0-988d-479d00e50e6b"
      },
      "outputs": [
        {
          "output_type": "stream",
          "name": "stdout",
          "text": [
            "{'edge_index': array([[ 0,  1,  1,  2,  2,  3,  3,  4,  4,  5,  5,  6,  6,  7,  7,  8,\n",
            "         6,  9,  4, 10, 10, 11, 11, 12, 12, 13, 11, 14, 14, 15, 15, 16,\n",
            "        16, 17, 15, 18,  9,  2, 18,  4],\n",
            "       [ 1,  0,  2,  1,  3,  2,  4,  3,  5,  4,  6,  5,  7,  6,  8,  7,\n",
            "         9,  6, 10,  4, 11, 10, 12, 11, 13, 12, 14, 11, 15, 14, 16, 15,\n",
            "        17, 16, 18, 15,  2,  9,  4, 18]]), 'edge_feat': array([[0, 0, 0],\n",
            "       [0, 0, 0],\n",
            "       [0, 0, 0],\n",
            "       [0, 0, 0],\n",
            "       [1, 0, 0],\n",
            "       [1, 0, 0],\n",
            "       [0, 0, 0],\n",
            "       [0, 0, 0],\n",
            "       [0, 0, 0],\n",
            "       [0, 0, 0],\n",
            "       [1, 0, 0],\n",
            "       [1, 0, 0],\n",
            "       [0, 0, 0],\n",
            "       [0, 0, 0],\n",
            "       [0, 0, 0],\n",
            "       [0, 0, 0],\n",
            "       [0, 0, 0],\n",
            "       [0, 0, 0],\n",
            "       [0, 0, 0],\n",
            "       [0, 0, 0],\n",
            "       [1, 0, 0],\n",
            "       [1, 0, 0],\n",
            "       [0, 0, 0],\n",
            "       [0, 0, 0],\n",
            "       [0, 0, 0],\n",
            "       [0, 0, 0],\n",
            "       [0, 0, 0],\n",
            "       [0, 0, 0],\n",
            "       [0, 0, 0],\n",
            "       [0, 0, 0],\n",
            "       [0, 0, 0],\n",
            "       [0, 0, 0],\n",
            "       [0, 0, 0],\n",
            "       [0, 0, 0],\n",
            "       [1, 0, 0],\n",
            "       [1, 0, 0],\n",
            "       [0, 0, 0],\n",
            "       [0, 0, 0],\n",
            "       [0, 0, 0],\n",
            "       [0, 0, 0]]), 'node_feat': array([[ 5,  0,  4,  5,  3,  0,  2,  0,  0],\n",
            "       [ 5,  0,  4,  5,  2,  0,  2,  0,  0],\n",
            "       [ 5,  0,  3,  5,  0,  0,  1,  0,  1],\n",
            "       [ 7,  0,  2,  6,  0,  0,  1,  0,  1],\n",
            "       [28,  0,  4,  2,  0,  0,  5,  0,  1],\n",
            "       [ 7,  0,  2,  6,  0,  0,  1,  0,  1],\n",
            "       [ 5,  0,  3,  5,  0,  0,  1,  0,  1],\n",
            "       [ 5,  0,  4,  5,  2,  0,  2,  0,  0],\n",
            "       [ 5,  0,  4,  5,  3,  0,  2,  0,  0],\n",
            "       [ 5,  0,  4,  5,  2,  0,  2,  0,  1],\n",
            "       [ 7,  0,  2,  6,  0,  0,  1,  0,  1],\n",
            "       [ 5,  0,  3,  5,  0,  0,  1,  0,  1],\n",
            "       [ 5,  0,  4,  5,  2,  0,  2,  0,  0],\n",
            "       [ 5,  0,  4,  5,  3,  0,  2,  0,  0],\n",
            "       [ 5,  0,  4,  5,  2,  0,  2,  0,  1],\n",
            "       [ 5,  0,  3,  5,  0,  0,  1,  0,  1],\n",
            "       [ 5,  0,  4,  5,  2,  0,  2,  0,  0],\n",
            "       [ 5,  0,  4,  5,  3,  0,  2,  0,  0],\n",
            "       [ 7,  0,  2,  6,  0,  0,  1,  0,  1]]), 'num_nodes': 19}\n"
          ]
        }
      ],
      "source": [
        "print(graph)"
      ]
    },
    {
      "cell_type": "code",
      "execution_count": null,
      "metadata": {
        "colab": {
          "base_uri": "https://localhost:8080/",
          "height": 317
        },
        "id": "tAjDQqXwJ0uE",
        "outputId": "0e2bc344-c3bd-4cc0-b46d-0e745779248a"
      },
      "outputs": [
        {
          "output_type": "display_data",
          "data": {
            "text/plain": [
              "<PIL.PngImagePlugin.PngImageFile image mode=RGB size=300x300 at 0x7F36C46AE380>"
            ],
            "image/png": "[encoded data removed]"
          },
          "metadata": {}
        }
      ],
      "source": [
        "import rdkit\n",
        "from rdkit import Chem\n",
        "from rdkit.Chem import Draw\n",
        "\n",
        "# SMILES string of the molecule\n",
        "ss = df['smiles'][1800]\n",
        "\n",
        "# Create a molecule object from the SMILES string\n",
        "mol = Chem.MolFromSmiles(ss)\n",
        "\n",
        "# Generate a 2D depiction of the molecule\n",
        "img = Draw.MolToImage(mol)\n",
        "\n",
        "# Display the image\n",
        "img.show()"
      ]
    },
    {
      "cell_type": "code",
      "execution_count": null,
      "metadata": {
        "id": "h_dc1dDuye3V"
      },
      "outputs": [],
      "source": [
        "from ogb.graphproppred import Evaluator\n",
        "\n",
        "evaluator = Evaluator(name = \"ogbg-molhiv\")"
      ]
    },
    {
      "cell_type": "markdown",
      "metadata": {
        "id": "hnGwE8X1KfnA"
      },
      "source": [
        "# Molecular Fingerprints"
      ]
    },
    {
      "cell_type": "code",
      "execution_count": null,
      "metadata": {
        "id": "UIcYY25wMbk2"
      },
      "outputs": [],
      "source": [
        "from rdkit.Chem import AllChem\n",
        "from tqdm import tqdm\n",
        "from rdkit.Avalon import pyAvalonTools\n",
        "from rdkit.Chem import rdMolDescriptors"
      ]
    },
    {
      "cell_type": "code",
      "execution_count": null,
      "metadata": {
        "colab": {
          "base_uri": "https://localhost:8080/"
        },
        "id": "bugELu1_omI4",
        "outputId": "b7ed820c-4754-432a-cd7c-1b289ae39271"
      },
      "outputs": [
        {
          "output_type": "stream",
          "name": "stderr",
          "text": [
            "[13:54:06] WARNING: not removing hydrogen atom without neighbors\n",
            "[13:54:06] WARNING: not removing hydrogen atom without neighbors\n"
          ]
        }
      ],
      "source": [
        "smiles_col = df['smiles']\n",
        "molecules = [Chem.MolFromSmiles(x) for x in smiles_col]\n",
        "\n",
        "\n",
        "def MorganFingerprintsNumpy(molecules):\n",
        "  #rdkit_mol = AllChem.MolFromSmiles(molecules)\n",
        "  morgan = np.array([AllChem.GetMorganFingerprintAsBitVect(x, 2) for x in tqdm(molecules)])\n",
        "  morgan_df = pd.DataFrame(morgan)\n",
        "  return morgan_df\n",
        "\n",
        "#morgan_df = MorganFingerprintsNumpy(molecules)\n",
        "#print(morgan_df.head())"
      ]
    },
    {
      "cell_type": "code",
      "execution_count": null,
      "metadata": {
        "id": "CsnLKq_Yrk4g"
      },
      "outputs": [],
      "source": [
        "def MACCSFingerprintsNumpy(molecules):\n",
        "  #rdkit_mol = AllChem.MolFromSmiles(mol)\n",
        "  #fp = AllChem.GetMACCSKeysFingerprint(rdkit_mol)\n",
        "  #return [int(b) for b in fp.ToBitString()]\n",
        "  maccs = np.array([AllChem.GetMACCSKeysFingerprint(x) for x in tqdm(molecules)])\n",
        "  maccs_df = pd.DataFrame(maccs)\n",
        "  return maccs_df\n",
        "\n",
        "#maccs_df = MACCSFingerprintsNumpy(molecules)\n",
        "#print(maccs_df.head())"
      ]
    },
    {
      "cell_type": "code",
      "execution_count": null,
      "metadata": {
        "id": "xMZ3JZ-KuOx1"
      },
      "outputs": [],
      "source": [
        "def AvalonFingerprintsNumpy(molecules):\n",
        "  #rdkit_mol = AllChem.MolFromSmiles(mol)\n",
        "  avalon = np.array([pyAvalonTools.GetAvalonFP(x, nBits=512) for x in tqdm(molecules)])\n",
        "  avalon_df = pd.DataFrame(avalon)\n",
        "  return avalon_df\n",
        "\n",
        "#avalon_df = AvalonFingerprintsNumpy(molecules)\n",
        "#print(avalon_df.head())"
      ]
    },
    {
      "cell_type": "code",
      "execution_count": null,
      "metadata": {
        "id": "k-afbVVlvPNb"
      },
      "outputs": [],
      "source": [
        "def TopologicalTorsionsFingerprintsNumpy(molecules):\n",
        "  #rdkit_mol = AllChem.MolFromSmiles(mol)\n",
        "  tt = np.array([rdMolDescriptors.GetHashedTopologicalTorsionFingerprintAsBitVect(x, nBits=512) for x in tqdm(molecules)])\n",
        "  tt_df = pd.DataFrame(tt)\n",
        "  return tt_df\n",
        "\n",
        "#tt_df = TopologicalTorsionsFingerprintsNumpy(molecules)\n",
        "#print(tt_df.head())"
      ]
    },
    {
      "cell_type": "code",
      "execution_count": null,
      "metadata": {
        "id": "jpTlNaS2v_K5"
      },
      "outputs": [],
      "source": [
        "def RDKFingerprintsNumpy(molecules):\n",
        "  #rdkit_mol = AllChem.MolFromSmiles(mol)\n",
        "  rdkbi = {}\n",
        "  rdk = np.array([AllChem.RDKFingerprint(x, maxPath=5, fpSize=512, bitInfo=rdkbi) for x in tqdm(molecules)])\n",
        "  rdk_df = pd.DataFrame(rdk)\n",
        "  return rdk_df\n",
        "\n",
        "#rdk_df = RDKFingerprintsNumpy(molecules)\n",
        "#print(rdk_df.head())"
      ]
    },
    {
      "cell_type": "code",
      "execution_count": null,
      "metadata": {
        "id": "wn8tw8tRwmUo",
        "colab": {
          "base_uri": "https://localhost:8080/"
        },
        "outputId": "aa6ce972-eeef-49f8-9fee-f2f2b6aad1ef"
      },
      "outputs": [
        {
          "output_type": "stream",
          "name": "stderr",
          "text": [
            "100%|██████████| 41127/41127 [00:03<00:00, 10729.48it/s]\n",
            "100%|██████████| 41127/41127 [01:05<00:00, 631.19it/s]\n",
            "100%|██████████| 41127/41127 [00:57<00:00, 719.51it/s]\n",
            "100%|██████████| 41127/41127 [00:08<00:00, 4790.68it/s]\n",
            "100%|██████████| 41127/41127 [00:57<00:00, 713.17it/s]\n"
          ]
        }
      ],
      "source": [
        "fingerprint_df_dict = {\n",
        "    \"morgan\" : MorganFingerprintsNumpy(molecules),\n",
        "    \"maccs\" : MACCSFingerprintsNumpy(molecules),\n",
        "    \"Avalon\" : AvalonFingerprintsNumpy(molecules),\n",
        "    \"Topological Torsions\" : TopologicalTorsionsFingerprintsNumpy(molecules),\n",
        "    \"RDK\" : RDKFingerprintsNumpy(molecules)\n",
        "}\n",
        "\n",
        "torch.save(fingerprint_df_dict, \"fingerprints.tar\")\n",
        "del fingerprint_df_dict"
      ]
    },
    {
      "cell_type": "code",
      "execution_count": null,
      "metadata": {
        "id": "72AS-D36xroo"
      },
      "outputs": [],
      "source": [
        "fpdf_dict = torch.load(\"fingerprints.tar\")"
      ]
    },
    {
      "cell_type": "code",
      "execution_count": null,
      "metadata": {
        "id": "P-LxTggKxspu"
      },
      "outputs": [],
      "source": [
        "combinations = [[\"morgan\", \"maccs\", \"RDK\"],\n",
        "                [\"morgan\", \"maccs\", \"Avalon\", \"RDK\"],\n",
        "                [\"morgan\", \"maccs\", \"Topological Torsions\", \"RDK\"],\n",
        "                [\"morgan\", \"maccs\",\"Avalon\", \"Topological Torsions\", \"RDK\"]]\n",
        "\n",
        "scores_comb_dict = {\n",
        "    \"MMR\" : [],\n",
        "    \"MMAR\" : [],\n",
        "    \"MMTR\" : [],\n",
        "    \"MMATR\" : []\n",
        "}\n",
        "\n",
        "def find_comb(comb):\n",
        "  if comb == [\"morgan\", \"maccs\", \"RDK\"]:\n",
        "    return \"MMR\"\n",
        "  if comb == [\"morgan\", \"maccs\", \"Avalon\", \"RDK\"]:\n",
        "    return \"MMAR\"\n",
        "  if comb == [\"morgan\", \"maccs\", \"Topological Torsions\", \"RDK\"]:\n",
        "    return \"MMTR\"\n",
        "  if comb == [\"morgan\", \"maccs\",\"Avalon\", \"Topological Torsions\", \"RDK\"]:\n",
        "    return \"MMATR\"\n",
        "\n"
      ]
    },
    {
      "cell_type": "markdown",
      "source": [
        "# Random Forest"
      ],
      "metadata": {
        "id": "yTobcjgsz_Ma"
      }
    },
    {
      "cell_type": "code",
      "execution_count": null,
      "metadata": {
        "id": "i29tbeL7zm5V",
        "colab": {
          "base_uri": "https://localhost:8080/"
        },
        "outputId": "fc8ba0cc-8993-439e-9c6a-c3891ad9a454"
      },
      "outputs": [
        {
          "output_type": "stream",
          "name": "stdout",
          "text": [
            "Working with:\n",
            "['morgan', 'maccs', 'RDK']\n",
            "Dataframe with labels\n",
            "   HIV_active  0  1  2  3  4  5  6  7  8  ...  502  503  504  505  506  507  \\\n",
            "0           0  0  0  0  0  0  0  0  0  0  ...    0    0    0    0    0    0   \n",
            "1           0  0  0  0  0  0  0  0  0  0  ...    1    0    0    1    0    0   \n",
            "2           0  0  0  0  0  0  0  0  0  0  ...    0    0    0    0    1    1   \n",
            "3           0  0  0  0  0  0  0  0  0  0  ...    0    0    0    0    1    0   \n",
            "4           0  0  0  0  0  0  0  0  0  0  ...    0    0    0    0    0    0   \n",
            "\n",
            "   508  509  510  511  \n",
            "0    1    0    0    0  \n",
            "1    1    0    0    0  \n",
            "2    0    1    0    1  \n",
            "3    0    0    0    0  \n",
            "4    0    0    0    0  \n",
            "\n",
            "[5 rows x 2728 columns]\n"
          ]
        },
        {
          "output_type": "stream",
          "name": "stderr",
          "text": [
            "/usr/local/lib/python3.10/dist-packages/numpy/lib/function_base.py:2829: RuntimeWarning: invalid value encountered in true_divide\n",
            "  c /= stddev[:, None]\n",
            "/usr/local/lib/python3.10/dist-packages/numpy/lib/function_base.py:2830: RuntimeWarning: invalid value encountered in true_divide\n",
            "  c /= stddev[None, :]\n",
            "/usr/local/lib/python3.10/dist-packages/sklearn/ensemble/_forest.py:424: FutureWarning: `max_features='auto'` has been deprecated in 1.1 and will be removed in 1.3. To keep the past behaviour, explicitly set `max_features='sqrt'` or remove this parameter as it is also the default value for RandomForestClassifiers and ExtraTreesClassifiers.\n",
            "  warn(\n"
          ]
        },
        {
          "output_type": "stream",
          "name": "stdout",
          "text": [
            "\n",
            " Random state: 1138\n",
            "\n",
            " Validation ROC-AUC: 0.8161\n",
            "\n",
            " Test: 0.8087\n"
          ]
        },
        {
          "output_type": "stream",
          "name": "stderr",
          "text": [
            "/usr/local/lib/python3.10/dist-packages/sklearn/ensemble/_forest.py:424: FutureWarning: `max_features='auto'` has been deprecated in 1.1 and will be removed in 1.3. To keep the past behaviour, explicitly set `max_features='sqrt'` or remove this parameter as it is also the default value for RandomForestClassifiers and ExtraTreesClassifiers.\n",
            "  warn(\n"
          ]
        },
        {
          "output_type": "stream",
          "name": "stdout",
          "text": [
            "\n",
            " Random state: 146\n",
            "\n",
            " Validation ROC-AUC: 0.8145\n",
            "\n",
            " Test: 0.8039\n"
          ]
        },
        {
          "output_type": "stream",
          "name": "stderr",
          "text": [
            "/usr/local/lib/python3.10/dist-packages/sklearn/ensemble/_forest.py:424: FutureWarning: `max_features='auto'` has been deprecated in 1.1 and will be removed in 1.3. To keep the past behaviour, explicitly set `max_features='sqrt'` or remove this parameter as it is also the default value for RandomForestClassifiers and ExtraTreesClassifiers.\n",
            "  warn(\n"
          ]
        },
        {
          "output_type": "stream",
          "name": "stdout",
          "text": [
            "\n",
            " Random state: 1039\n",
            "\n",
            " Validation ROC-AUC: 0.8300\n",
            "\n",
            " Test: 0.8086\n"
          ]
        },
        {
          "output_type": "stream",
          "name": "stderr",
          "text": [
            "/usr/local/lib/python3.10/dist-packages/sklearn/ensemble/_forest.py:424: FutureWarning: `max_features='auto'` has been deprecated in 1.1 and will be removed in 1.3. To keep the past behaviour, explicitly set `max_features='sqrt'` or remove this parameter as it is also the default value for RandomForestClassifiers and ExtraTreesClassifiers.\n",
            "  warn(\n"
          ]
        },
        {
          "output_type": "stream",
          "name": "stdout",
          "text": [
            "\n",
            " Random state: 716\n",
            "\n",
            " Validation ROC-AUC: 0.8162\n",
            "\n",
            " Test: 0.8205\n"
          ]
        },
        {
          "output_type": "stream",
          "name": "stderr",
          "text": [
            "/usr/local/lib/python3.10/dist-packages/sklearn/ensemble/_forest.py:424: FutureWarning: `max_features='auto'` has been deprecated in 1.1 and will be removed in 1.3. To keep the past behaviour, explicitly set `max_features='sqrt'` or remove this parameter as it is also the default value for RandomForestClassifiers and ExtraTreesClassifiers.\n",
            "  warn(\n"
          ]
        },
        {
          "output_type": "stream",
          "name": "stdout",
          "text": [
            "\n",
            " Random state: 2018\n",
            "\n",
            " Validation ROC-AUC: 0.8063\n",
            "\n",
            " Test: 0.8146\n"
          ]
        },
        {
          "output_type": "stream",
          "name": "stderr",
          "text": [
            "/usr/local/lib/python3.10/dist-packages/sklearn/ensemble/_forest.py:424: FutureWarning: `max_features='auto'` has been deprecated in 1.1 and will be removed in 1.3. To keep the past behaviour, explicitly set `max_features='sqrt'` or remove this parameter as it is also the default value for RandomForestClassifiers and ExtraTreesClassifiers.\n",
            "  warn(\n"
          ]
        },
        {
          "output_type": "stream",
          "name": "stdout",
          "text": [
            "\n",
            " Random state: 907\n",
            "\n",
            " Validation ROC-AUC: 0.8164\n",
            "\n",
            " Test: 0.8058\n"
          ]
        },
        {
          "output_type": "stream",
          "name": "stderr",
          "text": [
            "/usr/local/lib/python3.10/dist-packages/sklearn/ensemble/_forest.py:424: FutureWarning: `max_features='auto'` has been deprecated in 1.1 and will be removed in 1.3. To keep the past behaviour, explicitly set `max_features='sqrt'` or remove this parameter as it is also the default value for RandomForestClassifiers and ExtraTreesClassifiers.\n",
            "  warn(\n"
          ]
        },
        {
          "output_type": "stream",
          "name": "stdout",
          "text": [
            "\n",
            " Random state: 1689\n",
            "\n",
            " Validation ROC-AUC: 0.8183\n",
            "\n",
            " Test: 0.8060\n"
          ]
        },
        {
          "output_type": "stream",
          "name": "stderr",
          "text": [
            "/usr/local/lib/python3.10/dist-packages/sklearn/ensemble/_forest.py:424: FutureWarning: `max_features='auto'` has been deprecated in 1.1 and will be removed in 1.3. To keep the past behaviour, explicitly set `max_features='sqrt'` or remove this parameter as it is also the default value for RandomForestClassifiers and ExtraTreesClassifiers.\n",
            "  warn(\n"
          ]
        },
        {
          "output_type": "stream",
          "name": "stdout",
          "text": [
            "\n",
            " Random state: 1984\n",
            "\n",
            " Validation ROC-AUC: 0.8271\n",
            "\n",
            " Test: 0.8205\n"
          ]
        },
        {
          "output_type": "stream",
          "name": "stderr",
          "text": [
            "/usr/local/lib/python3.10/dist-packages/sklearn/ensemble/_forest.py:424: FutureWarning: `max_features='auto'` has been deprecated in 1.1 and will be removed in 1.3. To keep the past behaviour, explicitly set `max_features='sqrt'` or remove this parameter as it is also the default value for RandomForestClassifiers and ExtraTreesClassifiers.\n",
            "  warn(\n"
          ]
        },
        {
          "output_type": "stream",
          "name": "stdout",
          "text": [
            "\n",
            " Random state: 1835\n",
            "\n",
            " Validation ROC-AUC: 0.8145\n",
            "\n",
            " Test: 0.8119\n"
          ]
        },
        {
          "output_type": "stream",
          "name": "stderr",
          "text": [
            "/usr/local/lib/python3.10/dist-packages/sklearn/ensemble/_forest.py:424: FutureWarning: `max_features='auto'` has been deprecated in 1.1 and will be removed in 1.3. To keep the past behaviour, explicitly set `max_features='sqrt'` or remove this parameter as it is also the default value for RandomForestClassifiers and ExtraTreesClassifiers.\n",
            "  warn(\n"
          ]
        },
        {
          "output_type": "stream",
          "name": "stdout",
          "text": [
            "\n",
            " Random state: 1333\n",
            "\n",
            " Validation ROC-AUC: 0.8203\n",
            "\n",
            " Test: 0.8083\n",
            "Validation ROC-AUC --Final results:\n",
            " 0.8179826817558299 +/- 0.006342374867680874\n",
            "Test ROC-AUC --Final results:\n",
            " 0.810884721605284 +/- 0.0055997405883402036\n",
            "Working with:\n",
            "['morgan', 'maccs', 'Avalon', 'RDK']\n",
            "Dataframe with labels\n",
            "   HIV_active  0  1  2  3  4  5  6  7  8  ...  502  503  504  505  506  507  \\\n",
            "0           0  0  0  0  0  0  0  0  0  0  ...    0    0    0    0    0    0   \n",
            "1           0  0  0  0  0  0  0  0  0  0  ...    1    0    0    1    0    0   \n",
            "2           0  0  0  0  0  0  0  0  0  0  ...    0    0    0    0    1    1   \n",
            "3           0  0  0  0  0  0  0  0  0  0  ...    0    0    0    0    1    0   \n",
            "4           0  0  0  0  0  0  0  0  0  0  ...    0    0    0    0    0    0   \n",
            "\n",
            "   508  509  510  511  \n",
            "0    1    0    0    0  \n",
            "1    1    0    0    0  \n",
            "2    0    1    0    1  \n",
            "3    0    0    0    0  \n",
            "4    0    0    0    0  \n",
            "\n",
            "[5 rows x 3240 columns]\n"
          ]
        },
        {
          "output_type": "stream",
          "name": "stderr",
          "text": [
            "/usr/local/lib/python3.10/dist-packages/numpy/lib/function_base.py:2829: RuntimeWarning: invalid value encountered in true_divide\n",
            "  c /= stddev[:, None]\n",
            "/usr/local/lib/python3.10/dist-packages/numpy/lib/function_base.py:2830: RuntimeWarning: invalid value encountered in true_divide\n",
            "  c /= stddev[None, :]\n",
            "/usr/local/lib/python3.10/dist-packages/sklearn/ensemble/_forest.py:424: FutureWarning: `max_features='auto'` has been deprecated in 1.1 and will be removed in 1.3. To keep the past behaviour, explicitly set `max_features='sqrt'` or remove this parameter as it is also the default value for RandomForestClassifiers and ExtraTreesClassifiers.\n",
            "  warn(\n"
          ]
        },
        {
          "output_type": "stream",
          "name": "stdout",
          "text": [
            "\n",
            " Random state: 1777\n",
            "\n",
            " Validation ROC-AUC: 0.8151\n",
            "\n",
            " Test: 0.8058\n"
          ]
        },
        {
          "output_type": "stream",
          "name": "stderr",
          "text": [
            "/usr/local/lib/python3.10/dist-packages/sklearn/ensemble/_forest.py:424: FutureWarning: `max_features='auto'` has been deprecated in 1.1 and will be removed in 1.3. To keep the past behaviour, explicitly set `max_features='sqrt'` or remove this parameter as it is also the default value for RandomForestClassifiers and ExtraTreesClassifiers.\n",
            "  warn(\n"
          ]
        },
        {
          "output_type": "stream",
          "name": "stdout",
          "text": [
            "\n",
            " Random state: 1518\n",
            "\n",
            " Validation ROC-AUC: 0.8155\n",
            "\n",
            " Test: 0.8121\n"
          ]
        },
        {
          "output_type": "stream",
          "name": "stderr",
          "text": [
            "/usr/local/lib/python3.10/dist-packages/sklearn/ensemble/_forest.py:424: FutureWarning: `max_features='auto'` has been deprecated in 1.1 and will be removed in 1.3. To keep the past behaviour, explicitly set `max_features='sqrt'` or remove this parameter as it is also the default value for RandomForestClassifiers and ExtraTreesClassifiers.\n",
            "  warn(\n"
          ]
        },
        {
          "output_type": "stream",
          "name": "stdout",
          "text": [
            "\n",
            " Random state: 1655\n",
            "\n",
            " Validation ROC-AUC: 0.8144\n",
            "\n",
            " Test: 0.8072\n"
          ]
        },
        {
          "output_type": "stream",
          "name": "stderr",
          "text": [
            "/usr/local/lib/python3.10/dist-packages/sklearn/ensemble/_forest.py:424: FutureWarning: `max_features='auto'` has been deprecated in 1.1 and will be removed in 1.3. To keep the past behaviour, explicitly set `max_features='sqrt'` or remove this parameter as it is also the default value for RandomForestClassifiers and ExtraTreesClassifiers.\n",
            "  warn(\n"
          ]
        },
        {
          "output_type": "stream",
          "name": "stdout",
          "text": [
            "\n",
            " Random state: 1598\n",
            "\n",
            " Validation ROC-AUC: 0.8266\n",
            "\n",
            " Test: 0.8111\n"
          ]
        },
        {
          "output_type": "stream",
          "name": "stderr",
          "text": [
            "/usr/local/lib/python3.10/dist-packages/sklearn/ensemble/_forest.py:424: FutureWarning: `max_features='auto'` has been deprecated in 1.1 and will be removed in 1.3. To keep the past behaviour, explicitly set `max_features='sqrt'` or remove this parameter as it is also the default value for RandomForestClassifiers and ExtraTreesClassifiers.\n",
            "  warn(\n"
          ]
        },
        {
          "output_type": "stream",
          "name": "stdout",
          "text": [
            "\n",
            " Random state: 358\n",
            "\n",
            " Validation ROC-AUC: 0.8231\n",
            "\n",
            " Test: 0.8166\n"
          ]
        },
        {
          "output_type": "stream",
          "name": "stderr",
          "text": [
            "/usr/local/lib/python3.10/dist-packages/sklearn/ensemble/_forest.py:424: FutureWarning: `max_features='auto'` has been deprecated in 1.1 and will be removed in 1.3. To keep the past behaviour, explicitly set `max_features='sqrt'` or remove this parameter as it is also the default value for RandomForestClassifiers and ExtraTreesClassifiers.\n",
            "  warn(\n"
          ]
        },
        {
          "output_type": "stream",
          "name": "stdout",
          "text": [
            "\n",
            " Random state: 1820\n",
            "\n",
            " Validation ROC-AUC: 0.8023\n",
            "\n",
            " Test: 0.8146\n"
          ]
        },
        {
          "output_type": "stream",
          "name": "stderr",
          "text": [
            "/usr/local/lib/python3.10/dist-packages/sklearn/ensemble/_forest.py:424: FutureWarning: `max_features='auto'` has been deprecated in 1.1 and will be removed in 1.3. To keep the past behaviour, explicitly set `max_features='sqrt'` or remove this parameter as it is also the default value for RandomForestClassifiers and ExtraTreesClassifiers.\n",
            "  warn(\n"
          ]
        },
        {
          "output_type": "stream",
          "name": "stdout",
          "text": [
            "\n",
            " Random state: 909\n",
            "\n",
            " Validation ROC-AUC: 0.8078\n",
            "\n",
            " Test: 0.8028\n"
          ]
        },
        {
          "output_type": "stream",
          "name": "stderr",
          "text": [
            "/usr/local/lib/python3.10/dist-packages/sklearn/ensemble/_forest.py:424: FutureWarning: `max_features='auto'` has been deprecated in 1.1 and will be removed in 1.3. To keep the past behaviour, explicitly set `max_features='sqrt'` or remove this parameter as it is also the default value for RandomForestClassifiers and ExtraTreesClassifiers.\n",
            "  warn(\n"
          ]
        },
        {
          "output_type": "stream",
          "name": "stdout",
          "text": [
            "\n",
            " Random state: 1038\n",
            "\n",
            " Validation ROC-AUC: 0.8314\n",
            "\n",
            " Test: 0.8121\n"
          ]
        },
        {
          "output_type": "stream",
          "name": "stderr",
          "text": [
            "/usr/local/lib/python3.10/dist-packages/sklearn/ensemble/_forest.py:424: FutureWarning: `max_features='auto'` has been deprecated in 1.1 and will be removed in 1.3. To keep the past behaviour, explicitly set `max_features='sqrt'` or remove this parameter as it is also the default value for RandomForestClassifiers and ExtraTreesClassifiers.\n",
            "  warn(\n"
          ]
        },
        {
          "output_type": "stream",
          "name": "stdout",
          "text": [
            "\n",
            " Random state: 531\n",
            "\n",
            " Validation ROC-AUC: 0.8171\n",
            "\n",
            " Test: 0.8018\n"
          ]
        },
        {
          "output_type": "stream",
          "name": "stderr",
          "text": [
            "/usr/local/lib/python3.10/dist-packages/sklearn/ensemble/_forest.py:424: FutureWarning: `max_features='auto'` has been deprecated in 1.1 and will be removed in 1.3. To keep the past behaviour, explicitly set `max_features='sqrt'` or remove this parameter as it is also the default value for RandomForestClassifiers and ExtraTreesClassifiers.\n",
            "  warn(\n"
          ]
        },
        {
          "output_type": "stream",
          "name": "stdout",
          "text": [
            "\n",
            " Random state: 312\n",
            "\n",
            " Validation ROC-AUC: 0.8135\n",
            "\n",
            " Test: 0.8119\n",
            "Validation ROC-AUC --Final results:\n",
            " 0.8166773834019203 +/- 0.008144654912356214\n",
            "Test ROC-AUC --Final results:\n",
            " 0.8095982927441627 +/- 0.004703500344398489\n",
            "Working with:\n",
            "['morgan', 'maccs', 'Topological Torsions', 'RDK']\n",
            "Dataframe with labels\n",
            "   HIV_active  0  1  2  3  4  5  6  7  8  ...  502  503  504  505  506  507  \\\n",
            "0           0  0  0  0  0  0  0  0  0  0  ...    0    0    0    0    0    0   \n",
            "1           0  0  0  0  0  0  0  0  0  0  ...    1    0    0    1    0    0   \n",
            "2           0  0  0  0  0  0  0  0  0  0  ...    0    0    0    0    1    1   \n",
            "3           0  0  0  0  0  0  0  0  0  0  ...    0    0    0    0    1    0   \n",
            "4           0  0  0  0  0  0  0  0  0  0  ...    0    0    0    0    0    0   \n",
            "\n",
            "   508  509  510  511  \n",
            "0    1    0    0    0  \n",
            "1    1    0    0    0  \n",
            "2    0    1    0    1  \n",
            "3    0    0    0    0  \n",
            "4    0    0    0    0  \n",
            "\n",
            "[5 rows x 3240 columns]\n"
          ]
        },
        {
          "output_type": "stream",
          "name": "stderr",
          "text": [
            "/usr/local/lib/python3.10/dist-packages/numpy/lib/function_base.py:2829: RuntimeWarning: invalid value encountered in true_divide\n",
            "  c /= stddev[:, None]\n",
            "/usr/local/lib/python3.10/dist-packages/numpy/lib/function_base.py:2830: RuntimeWarning: invalid value encountered in true_divide\n",
            "  c /= stddev[None, :]\n",
            "/usr/local/lib/python3.10/dist-packages/sklearn/ensemble/_forest.py:424: FutureWarning: `max_features='auto'` has been deprecated in 1.1 and will be removed in 1.3. To keep the past behaviour, explicitly set `max_features='sqrt'` or remove this parameter as it is also the default value for RandomForestClassifiers and ExtraTreesClassifiers.\n",
            "  warn(\n"
          ]
        },
        {
          "output_type": "stream",
          "name": "stdout",
          "text": [
            "\n",
            " Random state: 115\n",
            "\n",
            " Validation ROC-AUC: 0.8287\n",
            "\n",
            " Test: 0.8112\n"
          ]
        },
        {
          "output_type": "stream",
          "name": "stderr",
          "text": [
            "/usr/local/lib/python3.10/dist-packages/sklearn/ensemble/_forest.py:424: FutureWarning: `max_features='auto'` has been deprecated in 1.1 and will be removed in 1.3. To keep the past behaviour, explicitly set `max_features='sqrt'` or remove this parameter as it is also the default value for RandomForestClassifiers and ExtraTreesClassifiers.\n",
            "  warn(\n"
          ]
        },
        {
          "output_type": "stream",
          "name": "stdout",
          "text": [
            "\n",
            " Random state: 1268\n",
            "\n",
            " Validation ROC-AUC: 0.8381\n",
            "\n",
            " Test: 0.8131\n"
          ]
        },
        {
          "output_type": "stream",
          "name": "stderr",
          "text": [
            "/usr/local/lib/python3.10/dist-packages/sklearn/ensemble/_forest.py:424: FutureWarning: `max_features='auto'` has been deprecated in 1.1 and will be removed in 1.3. To keep the past behaviour, explicitly set `max_features='sqrt'` or remove this parameter as it is also the default value for RandomForestClassifiers and ExtraTreesClassifiers.\n",
            "  warn(\n"
          ]
        },
        {
          "output_type": "stream",
          "name": "stdout",
          "text": [
            "\n",
            " Random state: 753\n",
            "\n",
            " Validation ROC-AUC: 0.8444\n",
            "\n",
            " Test: 0.8235\n"
          ]
        },
        {
          "output_type": "stream",
          "name": "stderr",
          "text": [
            "/usr/local/lib/python3.10/dist-packages/sklearn/ensemble/_forest.py:424: FutureWarning: `max_features='auto'` has been deprecated in 1.1 and will be removed in 1.3. To keep the past behaviour, explicitly set `max_features='sqrt'` or remove this parameter as it is also the default value for RandomForestClassifiers and ExtraTreesClassifiers.\n",
            "  warn(\n"
          ]
        },
        {
          "output_type": "stream",
          "name": "stdout",
          "text": [
            "\n",
            " Random state: 923\n",
            "\n",
            " Validation ROC-AUC: 0.8351\n",
            "\n",
            " Test: 0.8143\n"
          ]
        },
        {
          "output_type": "stream",
          "name": "stderr",
          "text": [
            "/usr/local/lib/python3.10/dist-packages/sklearn/ensemble/_forest.py:424: FutureWarning: `max_features='auto'` has been deprecated in 1.1 and will be removed in 1.3. To keep the past behaviour, explicitly set `max_features='sqrt'` or remove this parameter as it is also the default value for RandomForestClassifiers and ExtraTreesClassifiers.\n",
            "  warn(\n"
          ]
        },
        {
          "output_type": "stream",
          "name": "stdout",
          "text": [
            "\n",
            " Random state: 1990\n",
            "\n",
            " Validation ROC-AUC: 0.8337\n",
            "\n",
            " Test: 0.8220\n"
          ]
        },
        {
          "output_type": "stream",
          "name": "stderr",
          "text": [
            "/usr/local/lib/python3.10/dist-packages/sklearn/ensemble/_forest.py:424: FutureWarning: `max_features='auto'` has been deprecated in 1.1 and will be removed in 1.3. To keep the past behaviour, explicitly set `max_features='sqrt'` or remove this parameter as it is also the default value for RandomForestClassifiers and ExtraTreesClassifiers.\n",
            "  warn(\n"
          ]
        },
        {
          "output_type": "stream",
          "name": "stdout",
          "text": [
            "\n",
            " Random state: 896\n",
            "\n",
            " Validation ROC-AUC: 0.8327\n",
            "\n",
            " Test: 0.8233\n"
          ]
        },
        {
          "output_type": "stream",
          "name": "stderr",
          "text": [
            "/usr/local/lib/python3.10/dist-packages/sklearn/ensemble/_forest.py:424: FutureWarning: `max_features='auto'` has been deprecated in 1.1 and will be removed in 1.3. To keep the past behaviour, explicitly set `max_features='sqrt'` or remove this parameter as it is also the default value for RandomForestClassifiers and ExtraTreesClassifiers.\n",
            "  warn(\n"
          ]
        },
        {
          "output_type": "stream",
          "name": "stdout",
          "text": [
            "\n",
            " Random state: 1091\n",
            "\n",
            " Validation ROC-AUC: 0.8520\n",
            "\n",
            " Test: 0.8173\n"
          ]
        },
        {
          "output_type": "stream",
          "name": "stderr",
          "text": [
            "/usr/local/lib/python3.10/dist-packages/sklearn/ensemble/_forest.py:424: FutureWarning: `max_features='auto'` has been deprecated in 1.1 and will be removed in 1.3. To keep the past behaviour, explicitly set `max_features='sqrt'` or remove this parameter as it is also the default value for RandomForestClassifiers and ExtraTreesClassifiers.\n",
            "  warn(\n"
          ]
        },
        {
          "output_type": "stream",
          "name": "stdout",
          "text": [
            "\n",
            " Random state: 1263\n",
            "\n",
            " Validation ROC-AUC: 0.8406\n",
            "\n",
            " Test: 0.8118\n"
          ]
        },
        {
          "output_type": "stream",
          "name": "stderr",
          "text": [
            "/usr/local/lib/python3.10/dist-packages/sklearn/ensemble/_forest.py:424: FutureWarning: `max_features='auto'` has been deprecated in 1.1 and will be removed in 1.3. To keep the past behaviour, explicitly set `max_features='sqrt'` or remove this parameter as it is also the default value for RandomForestClassifiers and ExtraTreesClassifiers.\n",
            "  warn(\n"
          ]
        },
        {
          "output_type": "stream",
          "name": "stdout",
          "text": [
            "\n",
            " Random state: 1077\n",
            "\n",
            " Validation ROC-AUC: 0.8316\n",
            "\n",
            " Test: 0.8081\n"
          ]
        },
        {
          "output_type": "stream",
          "name": "stderr",
          "text": [
            "/usr/local/lib/python3.10/dist-packages/sklearn/ensemble/_forest.py:424: FutureWarning: `max_features='auto'` has been deprecated in 1.1 and will be removed in 1.3. To keep the past behaviour, explicitly set `max_features='sqrt'` or remove this parameter as it is also the default value for RandomForestClassifiers and ExtraTreesClassifiers.\n",
            "  warn(\n"
          ]
        },
        {
          "output_type": "stream",
          "name": "stdout",
          "text": [
            "\n",
            " Random state: 1428\n",
            "\n",
            " Validation ROC-AUC: 0.8354\n",
            "\n",
            " Test: 0.8214\n",
            "Validation ROC-AUC --Final results:\n",
            " 0.8372405019106408 +/- 0.006552693557128354\n",
            "Test ROC-AUC --Final results:\n",
            " 0.8165968829061976 +/- 0.005359244846265224\n",
            "Working with:\n",
            "['morgan', 'maccs', 'Avalon', 'Topological Torsions', 'RDK']\n",
            "Dataframe with labels\n",
            "   HIV_active  0  1  2  3  4  5  6  7  8  ...  502  503  504  505  506  507  \\\n",
            "0           0  0  0  0  0  0  0  0  0  0  ...    0    0    0    0    0    0   \n",
            "1           0  0  0  0  0  0  0  0  0  0  ...    1    0    0    1    0    0   \n",
            "2           0  0  0  0  0  0  0  0  0  0  ...    0    0    0    0    1    1   \n",
            "3           0  0  0  0  0  0  0  0  0  0  ...    0    0    0    0    1    0   \n",
            "4           0  0  0  0  0  0  0  0  0  0  ...    0    0    0    0    0    0   \n",
            "\n",
            "   508  509  510  511  \n",
            "0    1    0    0    0  \n",
            "1    1    0    0    0  \n",
            "2    0    1    0    1  \n",
            "3    0    0    0    0  \n",
            "4    0    0    0    0  \n",
            "\n",
            "[5 rows x 3752 columns]\n"
          ]
        },
        {
          "output_type": "stream",
          "name": "stderr",
          "text": [
            "/usr/local/lib/python3.10/dist-packages/numpy/lib/function_base.py:2829: RuntimeWarning: invalid value encountered in true_divide\n",
            "  c /= stddev[:, None]\n",
            "/usr/local/lib/python3.10/dist-packages/numpy/lib/function_base.py:2830: RuntimeWarning: invalid value encountered in true_divide\n",
            "  c /= stddev[None, :]\n",
            "/usr/local/lib/python3.10/dist-packages/sklearn/ensemble/_forest.py:424: FutureWarning: `max_features='auto'` has been deprecated in 1.1 and will be removed in 1.3. To keep the past behaviour, explicitly set `max_features='sqrt'` or remove this parameter as it is also the default value for RandomForestClassifiers and ExtraTreesClassifiers.\n",
            "  warn(\n"
          ]
        },
        {
          "output_type": "stream",
          "name": "stdout",
          "text": [
            "\n",
            " Random state: 1837\n",
            "\n",
            " Validation ROC-AUC: 0.8216\n",
            "\n",
            " Test: 0.8090\n"
          ]
        },
        {
          "output_type": "stream",
          "name": "stderr",
          "text": [
            "/usr/local/lib/python3.10/dist-packages/sklearn/ensemble/_forest.py:424: FutureWarning: `max_features='auto'` has been deprecated in 1.1 and will be removed in 1.3. To keep the past behaviour, explicitly set `max_features='sqrt'` or remove this parameter as it is also the default value for RandomForestClassifiers and ExtraTreesClassifiers.\n",
            "  warn(\n"
          ]
        },
        {
          "output_type": "stream",
          "name": "stdout",
          "text": [
            "\n",
            " Random state: 1723\n",
            "\n",
            " Validation ROC-AUC: 0.8306\n",
            "\n",
            " Test: 0.8152\n"
          ]
        },
        {
          "output_type": "stream",
          "name": "stderr",
          "text": [
            "/usr/local/lib/python3.10/dist-packages/sklearn/ensemble/_forest.py:424: FutureWarning: `max_features='auto'` has been deprecated in 1.1 and will be removed in 1.3. To keep the past behaviour, explicitly set `max_features='sqrt'` or remove this parameter as it is also the default value for RandomForestClassifiers and ExtraTreesClassifiers.\n",
            "  warn(\n"
          ]
        },
        {
          "output_type": "stream",
          "name": "stdout",
          "text": [
            "\n",
            " Random state: 1394\n",
            "\n",
            " Validation ROC-AUC: 0.8203\n",
            "\n",
            " Test: 0.8155\n"
          ]
        },
        {
          "output_type": "stream",
          "name": "stderr",
          "text": [
            "/usr/local/lib/python3.10/dist-packages/sklearn/ensemble/_forest.py:424: FutureWarning: `max_features='auto'` has been deprecated in 1.1 and will be removed in 1.3. To keep the past behaviour, explicitly set `max_features='sqrt'` or remove this parameter as it is also the default value for RandomForestClassifiers and ExtraTreesClassifiers.\n",
            "  warn(\n"
          ]
        },
        {
          "output_type": "stream",
          "name": "stdout",
          "text": [
            "\n",
            " Random state: 1270\n",
            "\n",
            " Validation ROC-AUC: 0.8282\n",
            "\n",
            " Test: 0.8018\n"
          ]
        },
        {
          "output_type": "stream",
          "name": "stderr",
          "text": [
            "/usr/local/lib/python3.10/dist-packages/sklearn/ensemble/_forest.py:424: FutureWarning: `max_features='auto'` has been deprecated in 1.1 and will be removed in 1.3. To keep the past behaviour, explicitly set `max_features='sqrt'` or remove this parameter as it is also the default value for RandomForestClassifiers and ExtraTreesClassifiers.\n",
            "  warn(\n"
          ]
        },
        {
          "output_type": "stream",
          "name": "stdout",
          "text": [
            "\n",
            " Random state: 92\n",
            "\n",
            " Validation ROC-AUC: 0.8312\n",
            "\n",
            " Test: 0.8072\n"
          ]
        },
        {
          "output_type": "stream",
          "name": "stderr",
          "text": [
            "/usr/local/lib/python3.10/dist-packages/sklearn/ensemble/_forest.py:424: FutureWarning: `max_features='auto'` has been deprecated in 1.1 and will be removed in 1.3. To keep the past behaviour, explicitly set `max_features='sqrt'` or remove this parameter as it is also the default value for RandomForestClassifiers and ExtraTreesClassifiers.\n",
            "  warn(\n"
          ]
        },
        {
          "output_type": "stream",
          "name": "stdout",
          "text": [
            "\n",
            " Random state: 1212\n",
            "\n",
            " Validation ROC-AUC: 0.8221\n",
            "\n",
            " Test: 0.8106\n"
          ]
        },
        {
          "output_type": "stream",
          "name": "stderr",
          "text": [
            "/usr/local/lib/python3.10/dist-packages/sklearn/ensemble/_forest.py:424: FutureWarning: `max_features='auto'` has been deprecated in 1.1 and will be removed in 1.3. To keep the past behaviour, explicitly set `max_features='sqrt'` or remove this parameter as it is also the default value for RandomForestClassifiers and ExtraTreesClassifiers.\n",
            "  warn(\n"
          ]
        },
        {
          "output_type": "stream",
          "name": "stdout",
          "text": [
            "\n",
            " Random state: 1460\n",
            "\n",
            " Validation ROC-AUC: 0.8292\n",
            "\n",
            " Test: 0.8212\n"
          ]
        },
        {
          "output_type": "stream",
          "name": "stderr",
          "text": [
            "/usr/local/lib/python3.10/dist-packages/sklearn/ensemble/_forest.py:424: FutureWarning: `max_features='auto'` has been deprecated in 1.1 and will be removed in 1.3. To keep the past behaviour, explicitly set `max_features='sqrt'` or remove this parameter as it is also the default value for RandomForestClassifiers and ExtraTreesClassifiers.\n",
            "  warn(\n"
          ]
        },
        {
          "output_type": "stream",
          "name": "stdout",
          "text": [
            "\n",
            " Random state: 979\n",
            "\n",
            " Validation ROC-AUC: 0.8253\n",
            "\n",
            " Test: 0.8226\n"
          ]
        },
        {
          "output_type": "stream",
          "name": "stderr",
          "text": [
            "/usr/local/lib/python3.10/dist-packages/sklearn/ensemble/_forest.py:424: FutureWarning: `max_features='auto'` has been deprecated in 1.1 and will be removed in 1.3. To keep the past behaviour, explicitly set `max_features='sqrt'` or remove this parameter as it is also the default value for RandomForestClassifiers and ExtraTreesClassifiers.\n",
            "  warn(\n"
          ]
        },
        {
          "output_type": "stream",
          "name": "stdout",
          "text": [
            "\n",
            " Random state: 1622\n",
            "\n",
            " Validation ROC-AUC: 0.8168\n",
            "\n",
            " Test: 0.8216\n"
          ]
        },
        {
          "output_type": "stream",
          "name": "stderr",
          "text": [
            "/usr/local/lib/python3.10/dist-packages/sklearn/ensemble/_forest.py:424: FutureWarning: `max_features='auto'` has been deprecated in 1.1 and will be removed in 1.3. To keep the past behaviour, explicitly set `max_features='sqrt'` or remove this parameter as it is also the default value for RandomForestClassifiers and ExtraTreesClassifiers.\n",
            "  warn(\n"
          ]
        },
        {
          "output_type": "stream",
          "name": "stdout",
          "text": [
            "\n",
            " Random state: 1869\n",
            "\n",
            " Validation ROC-AUC: 0.8327\n",
            "\n",
            " Test: 0.8182\n",
            "Validation ROC-AUC --Final results:\n",
            " 0.8257999277385851 +/- 0.005091194737303979\n",
            "Test ROC-AUC --Final results:\n",
            " 0.8142988470229243 +/- 0.006611005814041662\n"
          ]
        }
      ],
      "source": [
        "import random\n",
        "from sklearn.metrics import roc_auc_score\n",
        "from sklearn.ensemble import RandomForestClassifier\n",
        "\n",
        "labels = df['HIV_active']\n",
        "split_idx = dataset.get_idx_split()\n",
        "train_idx = np.array(split_idx[\"train\"])\n",
        "valid_idx = np.array(split_idx[\"valid\"])\n",
        "test_idx = np.array(split_idx[\"test\"])\n",
        "for comb in combinations:\n",
        "  print(\"Working with:\")\n",
        "  print(comb)\n",
        "  current_df = labels\n",
        "  for i in range(len(comb)):\n",
        "    current_df = pd.concat([current_df, fpdf_dict[comb[i]]], axis = 1)\n",
        "  print(\"Dataframe with labels\")\n",
        "  print(current_df.head())\n",
        "\n",
        "  # create the correlation matrix\n",
        "  corr = np.corrcoef(np.transpose(current_df))\n",
        "  corr = pd.DataFrame(corr)\n",
        "  mask = np.triu(np.ones_like(corr, dtype=bool))\n",
        "  tri_df = corr.mask(mask)\n",
        "\n",
        "  # drop the appropriate columns so as to eliminate correlations above 90%\n",
        "  column_drop = [x for x in tri_df.columns if any(abs(tri_df[x])>0.9)]\n",
        "  # new dataframe\n",
        "  reduced_current_df = current_df.drop(current_df.columns[column_drop], axis = 1)\n",
        "\n",
        "  del corr\n",
        "  del mask\n",
        "  del tri_df\n",
        "\n",
        "  train = pd.DataFrame(reduced_current_df.iloc[train_idx,:])\n",
        "  val = pd.DataFrame(reduced_current_df.iloc[valid_idx,:])\n",
        "  test = pd.DataFrame(reduced_current_df.iloc[test_idx,:])\n",
        "\n",
        "  val_x = val.iloc[:,1:]\n",
        "  val_y = val.iloc[:,0]\n",
        "  test_x = test.iloc[:,1:]\n",
        "  test_y = test.iloc[:,0]\n",
        "  #scores\n",
        "  score_val = []\n",
        "  score_test = []\n",
        "  test_erg = []\n",
        "  val_erg = []\n",
        "\n",
        "  del reduced_current_df\n",
        "  rand_state_list = random.sample(range(2024), 10)\n",
        "\n",
        "  for rand_state in rand_state_list:\n",
        "    inactive_mol = train.loc[train['HIV_active'] == 0]\n",
        "    active_mol = train.loc[train['HIV_active']==1]\n",
        "    inactive_small = inactive_mol.sample(frac= 0.3, random_state=rand_state)\n",
        "    slist = pd.concat([active_mol, inactive_small], axis = 0)\n",
        "    slist = slist.sample(frac=1.0, random_state=rand_state)\n",
        "    train_x = slist.iloc[:,1:]\n",
        "    train_y = slist.iloc[:,0]\n",
        "\n",
        "    randomForest = RandomForestClassifier(n_estimators=500,\n",
        "                                random_state=i,\n",
        "                                n_jobs = 4,\n",
        "                                min_samples_leaf=2,\n",
        "                                criterion=\"entropy\",\n",
        "                                min_impurity_decrease=0,\n",
        "                                warm_start= True,\n",
        "                                max_features = \"auto\",\n",
        "                                max_depth = None,\n",
        "                                min_samples_split=10\n",
        "                                    )\n",
        "    randomForest.fit(train_x, train_y)\n",
        "\n",
        "    y_hat = randomForest.predict_proba(val_x)[:,1]\n",
        "    erg = roc_auc_score(val_y, y_hat)\n",
        "    val_erg.append(erg)\n",
        "\n",
        "    y_hat_test = randomForest.predict_proba(test_x)[:,1]\n",
        "    erg_test = roc_auc_score(test_y,y_hat_test)\n",
        "    test_erg.append(erg_test)\n",
        "\n",
        "\n",
        "    val_y = np.array(val_y)\n",
        "    input_dict_val = {\"y_true\":val_y.reshape(val_y.shape[0],1),\"y_pred\":y_hat.reshape(y_hat.shape[0],1)}\n",
        "    score_val.append(evaluator.eval(input_dict_val)[dataset.eval_metric])\n",
        "\n",
        "\n",
        "    test_y = np.array(test_y)\n",
        "    input_dict = {\"y_true\":test_y.reshape(test_y.shape[0],1),\"y_pred\":y_hat_test.reshape(y_hat_test.shape[0],1)}\n",
        "    score_test.append(evaluator.eval(input_dict)[dataset.eval_metric])\n",
        "\n",
        "\n",
        "    print(\"\\n Random state:\", rand_state)\n",
        "    print(\"\\n Validation ROC-AUC:\",\"%.4f\"%erg)\n",
        "    print(\"\\n Test:\",\"%.4f\"%erg_test)\n",
        "\n",
        "  print(\"Validation ROC-AUC --Final results:\\n\",np.mean(score_val),\"+/-\", np.std(score_val))\n",
        "  print(\"Test ROC-AUC --Final results:\\n\", np.mean(score_test), \"+/-\", np.std(score_test))\n",
        "  scores_comb_dict[find_comb(comb)] = [np.mean(score_val), np.std(score_val), np.mean(score_test), np.std(score_test)]\n",
        "  del train\n",
        "  del val\n",
        "  del test\n",
        "  del slist\n",
        "  del inactive_mol\n",
        "  del active_mol\n",
        "  del train_x\n",
        "  del train_y\n",
        "  del val_y\n",
        "  del test_y"
      ]
    },
    {
      "cell_type": "code",
      "execution_count": null,
      "metadata": {
        "id": "VeAvt2y1JX8F",
        "colab": {
          "base_uri": "https://localhost:8080/"
        },
        "outputId": "184f76d7-e7d8-4cfe-b4f0-b38cd729728c"
      },
      "outputs": [
        {
          "output_type": "stream",
          "name": "stdout",
          "text": [
            "All final Scores:\n",
            "\n",
            "\n",
            "Fingerprints: Morgan, MACCS, RDK\n",
            "\n",
            " Validation Scores:\n",
            "\n",
            "0.8179826817558299 +/- 0.006342374867680874\n",
            "\n",
            " Test Scores:\n",
            "\n",
            "0.810884721605284 +/- 0.0055997405883402036\n",
            "\n",
            "\n",
            "Fingerprints: Morgan, MACCS, Avalon RDK\n",
            "\n",
            " Validation Scores:\n",
            "\n",
            "0.8166773834019203 +/- 0.008144654912356214\n",
            "\n",
            " Test Scores:\n",
            "\n",
            "0.8095982927441627 +/- 0.004703500344398489\n",
            "Fingerprints: Morgan, MACCS, Topological Torsions, RDK\n",
            "\n",
            " Validation Scores:\n",
            "\n",
            "0.8372405019106408 +/- 0.006552693557128354\n",
            "\n",
            " Test Scores:\n",
            "\n",
            "0.8165968829061976 +/- 0.005359244846265224\n",
            "Fingerprints: Morgan, MACCS, Avalon, Topological Torsions, RDK\n",
            "\n",
            " Validation Scores:\n",
            "\n",
            "0.8257999277385851 +/- 0.005091194737303979\n",
            "\n",
            " Test Scores:\n",
            "\n",
            "0.8165968829061976 +/- 0.006611005814041662\n"
          ]
        }
      ],
      "source": [
        "print(\"All final Scores:\")\n",
        "print(\"\\n\")\n",
        "\n",
        "print(\"Fingerprints: Morgan, MACCS, RDK\")\n",
        "print(\"\\n Validation Scores:\\n\")\n",
        "val = scores_comb_dict[find_comb([\"morgan\", \"maccs\", \"RDK\"])][0]\n",
        "std = scores_comb_dict[find_comb([\"morgan\", \"maccs\", \"RDK\"])][1]\n",
        "print(val,\"+/-\",std)\n",
        "print(\"\\n Test Scores:\\n\")\n",
        "test = scores_comb_dict[find_comb([\"morgan\", \"maccs\", \"RDK\"])][2]\n",
        "std = scores_comb_dict[find_comb([\"morgan\", \"maccs\", \"RDK\"])][3]\n",
        "print(test,\"+/-\",std)\n",
        "print(\"\\n\")\n",
        "\n",
        "print(\"Fingerprints: Morgan, MACCS, Avalon RDK\")\n",
        "print(\"\\n Validation Scores:\\n\")\n",
        "val = scores_comb_dict[find_comb([\"morgan\", \"maccs\", \"Avalon\", \"RDK\"])][0]\n",
        "std = scores_comb_dict[find_comb([\"morgan\", \"maccs\", \"Avalon\", \"RDK\"])][1]\n",
        "print(val,\"+/-\",std)\n",
        "print(\"\\n Test Scores:\\n\")\n",
        "test = scores_comb_dict[find_comb([\"morgan\", \"maccs\", \"Avalon\", \"RDK\"])][2]\n",
        "std = scores_comb_dict[find_comb([\"morgan\", \"maccs\", \"Avalon\", \"RDK\"])][3]\n",
        "print(test,\"+/-\",std)\n",
        "\n",
        "print(\"Fingerprints: Morgan, MACCS, Topological Torsions, RDK\")\n",
        "print(\"\\n Validation Scores:\\n\")\n",
        "val = scores_comb_dict[find_comb([\"morgan\", \"maccs\", \"Topological Torsions\", \"RDK\"])][0]\n",
        "std = scores_comb_dict[find_comb([\"morgan\", \"maccs\", \"Topological Torsions\", \"RDK\"])][1]\n",
        "print(val,\"+/-\",std)\n",
        "print(\"\\n Test Scores:\\n\")\n",
        "test = scores_comb_dict[find_comb([\"morgan\", \"maccs\", \"Topological Torsions\", \"RDK\"])][2]\n",
        "std = scores_comb_dict[find_comb([\"morgan\", \"maccs\", \"Topological Torsions\", \"RDK\"])][3]\n",
        "print(test,\"+/-\",std)\n",
        "\n",
        "print(\"Fingerprints: Morgan, MACCS, Avalon, Topological Torsions, RDK\")\n",
        "print(\"\\n Validation Scores:\\n\")\n",
        "val = scores_comb_dict[find_comb([\"morgan\", \"maccs\", \"Avalon\", \"Topological Torsions\", \"RDK\"])][0]\n",
        "std = scores_comb_dict[find_comb([\"morgan\", \"maccs\", \"Avalon\", \"Topological Torsions\", \"RDK\"])][1]\n",
        "print(val,\"+/-\",std)\n",
        "print(\"\\n Test Scores:\\n\")\n",
        "val = scores_comb_dict[find_comb([\"morgan\", \"maccs\", \"Avalon\", \"Topological Torsions\", \"RDK\"])][2]\n",
        "std = scores_comb_dict[find_comb([\"morgan\", \"maccs\", \"Avalon\", \"Topological Torsions\", \"RDK\"])][3]\n",
        "print(test,\"+/-\",std)"
      ]
    }
  ],
  "metadata": {
    "accelerator": "GPU",
    "colab": {
      "provenance": [],
      "gpuType": "T4"
    },
    "kernelspec": {
      "display_name": "Python 3",
      "name": "python3"
    },
    "language_info": {
      "name": "python"
    }
  },
  "nbformat": 4,
  "nbformat_minor": 0
}